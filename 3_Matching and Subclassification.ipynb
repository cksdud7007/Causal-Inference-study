{
 "cells": [
  {
   "cell_type": "markdown",
   "metadata": {},
   "source": [
    "## Matching and Subclassification"
   ]
  },
  {
   "cell_type": "markdown",
   "metadata": {},
   "source": [
    "### Conditioning Strategy\n",
    "- Treatment Group과 Control Group을 무작위로 배정하는 것은 현실적으로 한계가 있다.\n",
    "  \n",
    "- 따라서 외부 X 변수들을 통제하여 무작위와 최대한 가깝게 설계할 수 있는 방법에 대해 생각해야 된다.\n",
    "  \n",
    "- Conditional Independence Assumption(CIA)을 만족하며 $(Y^1,Y^0) \\perp D|X$ 이고, 수식이 의미하는 바는 다음과 같다.\n",
    "\\begin{align}\n",
    "   E\\big[Y^1\\mid D=1,X\\big]=E\\big[Y^1\\mid D=0,X\\big]\n",
    "   \\\\\n",
    "   E\\big[Y^0\\mid D=1,X\\big]=E\\big[Y^0\\mid D=0,X\\big]\n",
    "\\end{align}\n",
    "- 조건화 전략에는 여러 방법들이 있지만, 여기서는 3가지 방법에 대해 공부해보자.\n",
    "    - Subclassification\n",
    "  \n",
    "    - Exact Matching\n",
    "  \n",
    "    - Approximate Matching"
   ]
  },
  {
   "cell_type": "markdown",
   "metadata": {},
   "source": [
    "#### Subclassification\n",
    "- 계층별 가중치로 평균 차이에 가중치를 부여하는 방법\n",
    "\n",
    "- 수식은 다음과 같다.\n",
    "\\begin{align}\n",
    "\\widehat{\\delta}_{ATT} = \\sum_{k=1}^K\\Big(\\overline{Y}^{1,k} - \\overline{Y}^{0,k}\\Big)\\times \\bigg( \\dfrac{N^k}{N} \\bigg )\n",
    "\\end{align}\n",
    "- $K$ = 각 범주의 수 (만약 2개의 연령 범주와 2 개의 성별 범주가 있다면, 4가지의 수가 존재, $K = 4$)\n",
    "  \n",
    "- ${N^k}$ = 각 범주에 따른 데이터 수\n",
    "  \n",
    "- 따라서 해당 방법에는 변수와 범주의 수가 많을 경우, $K$의 수가 급격히 커지기 때문에 차원의 저주라는 문제점이 있다."
   ]
  },
  {
   "cell_type": "markdown",
   "metadata": {},
   "source": [
    "#### Exact Matching\n",
    "- Subclassification 방법에는 차원의 저주라는 문제점이 있어서 다른 방법을 고안해야 된다.\n",
    "  \n",
    "- Exact Matching: 누락된 각 관측값(unit)의 잠재적 결과가 있을 때, Treatment unit과 Control unit X의 동일한 값을 매칭하여 누락된 값을 다른 그룹의 유사한 값으로 대체하는 방법이다."
   ]
  },
  {
   "cell_type": "markdown",
   "metadata": {},
   "source": [
    "##### Exact Matching Example\n",
    "- 연수 프로그램이 수입에 미치는 영향을 추정해보자\n",
    "  \n",
    "    - trainees: 연수 프로그램 유무\n",
    "  \n",
    "    - earnings: 수입"
   ]
  },
  {
   "cell_type": "code",
   "execution_count": 6,
   "metadata": {},
   "outputs": [],
   "source": [
    "import pandas as pd\n",
    "trainee = pd.read_csv(\"C:\\\\Users\\\\이찬영\\\\Desktop\\\\trainees.csv\") # 데이터 불러오기"
   ]
  },
  {
   "cell_type": "markdown",
   "metadata": {},
   "source": [
    "- 나이 (X)가 Treatment Group 과 Control Group 간 서로 다르기 때문에 단순 차이를 비교하기 어렵다."
   ]
  },
  {
   "cell_type": "code",
   "execution_count": 29,
   "metadata": {},
   "outputs": [
    {
     "name": "stdout",
     "output_type": "stream",
     "text": [
      "매칭을 활용하지 않은 단순 평균 차이: -4297.49373433584\n",
      "연수생 O 나이 평균: 28.473684210526315\n",
      "연수생 X 나이 평균: 33.0\n"
     ]
    }
   ],
   "source": [
    "print('매칭을 활용하지 않은 단순 평균 차이:', trainee.query(\"trainees==1\")[\"earnings\"].mean() - trainee.query(\"trainees==0\")[\"earnings\"].mean())\n",
    "print(\"연수생 O 나이 평균:\",trainee.query(\"trainees==1\")[\"age\"].mean())\n",
    "print(\"연수생 X 나이 평균:\",trainee.query(\"trainees==0\")[\"age\"].mean())"
   ]
  },
  {
   "cell_type": "code",
   "execution_count": 23,
   "metadata": {},
   "outputs": [
    {
     "data": {
      "text/html": [
       "<div>\n",
       "<style scoped>\n",
       "    .dataframe tbody tr th:only-of-type {\n",
       "        vertical-align: middle;\n",
       "    }\n",
       "\n",
       "    .dataframe tbody tr th {\n",
       "        vertical-align: top;\n",
       "    }\n",
       "\n",
       "    .dataframe thead th {\n",
       "        text-align: right;\n",
       "    }\n",
       "</style>\n",
       "<table border=\"1\" class=\"dataframe\">\n",
       "  <thead>\n",
       "    <tr style=\"text-align: right;\">\n",
       "      <th></th>\n",
       "      <th>unit_t_1</th>\n",
       "      <th>trainees_t_1</th>\n",
       "      <th>age</th>\n",
       "      <th>earnings_t_1</th>\n",
       "      <th>unit_t_0</th>\n",
       "      <th>trainees_t_0</th>\n",
       "      <th>earnings_t_0</th>\n",
       "      <th>t1_minuts_t0</th>\n",
       "    </tr>\n",
       "  </thead>\n",
       "  <tbody>\n",
       "    <tr>\n",
       "      <th>0</th>\n",
       "      <td>1</td>\n",
       "      <td>1</td>\n",
       "      <td>28</td>\n",
       "      <td>17700</td>\n",
       "      <td>27</td>\n",
       "      <td>0</td>\n",
       "      <td>8800</td>\n",
       "      <td>8900</td>\n",
       "    </tr>\n",
       "    <tr>\n",
       "      <th>1</th>\n",
       "      <td>2</td>\n",
       "      <td>1</td>\n",
       "      <td>34</td>\n",
       "      <td>10200</td>\n",
       "      <td>34</td>\n",
       "      <td>0</td>\n",
       "      <td>24200</td>\n",
       "      <td>-14000</td>\n",
       "    </tr>\n",
       "    <tr>\n",
       "      <th>2</th>\n",
       "      <td>3</td>\n",
       "      <td>1</td>\n",
       "      <td>29</td>\n",
       "      <td>14400</td>\n",
       "      <td>37</td>\n",
       "      <td>0</td>\n",
       "      <td>6200</td>\n",
       "      <td>8200</td>\n",
       "    </tr>\n",
       "    <tr>\n",
       "      <th>3</th>\n",
       "      <td>4</td>\n",
       "      <td>1</td>\n",
       "      <td>25</td>\n",
       "      <td>20800</td>\n",
       "      <td>35</td>\n",
       "      <td>0</td>\n",
       "      <td>23300</td>\n",
       "      <td>-2500</td>\n",
       "    </tr>\n",
       "    <tr>\n",
       "      <th>4</th>\n",
       "      <td>5</td>\n",
       "      <td>1</td>\n",
       "      <td>29</td>\n",
       "      <td>6100</td>\n",
       "      <td>37</td>\n",
       "      <td>0</td>\n",
       "      <td>6200</td>\n",
       "      <td>-100</td>\n",
       "    </tr>\n",
       "    <tr>\n",
       "      <th>5</th>\n",
       "      <td>6</td>\n",
       "      <td>1</td>\n",
       "      <td>23</td>\n",
       "      <td>28600</td>\n",
       "      <td>40</td>\n",
       "      <td>0</td>\n",
       "      <td>9500</td>\n",
       "      <td>19100</td>\n",
       "    </tr>\n",
       "    <tr>\n",
       "      <th>6</th>\n",
       "      <td>7</td>\n",
       "      <td>1</td>\n",
       "      <td>33</td>\n",
       "      <td>21900</td>\n",
       "      <td>29</td>\n",
       "      <td>0</td>\n",
       "      <td>15500</td>\n",
       "      <td>6400</td>\n",
       "    </tr>\n",
       "  </tbody>\n",
       "</table>\n",
       "</div>"
      ],
      "text/plain": [
       "   unit_t_1  trainees_t_1  age  earnings_t_1  unit_t_0  trainees_t_0  \\\n",
       "0         1             1   28         17700        27             0   \n",
       "1         2             1   34         10200        34             0   \n",
       "2         3             1   29         14400        37             0   \n",
       "3         4             1   25         20800        35             0   \n",
       "4         5             1   29          6100        37             0   \n",
       "5         6             1   23         28600        40             0   \n",
       "6         7             1   33         21900        29             0   \n",
       "\n",
       "   earnings_t_0  t1_minuts_t0  \n",
       "0          8800          8900  \n",
       "1         24200        -14000  \n",
       "2          6200          8200  \n",
       "3         23300         -2500  \n",
       "4          6200          -100  \n",
       "5          9500         19100  \n",
       "6         15500          6400  "
      ]
     },
     "execution_count": 23,
     "metadata": {},
     "output_type": "execute_result"
    }
   ],
   "source": [
    "# make dataset where no one has the same age\n",
    "unique_on_age = (trainee\n",
    "                 .query(\"trainees==0\")\n",
    "                 .drop_duplicates(\"age\"))\n",
    "\n",
    "matches = (trainee\n",
    "           .query(\"trainees==1\")\n",
    "           .merge(unique_on_age, on=\"age\", how=\"left\", suffixes=(\"_t_1\", \"_t_0\"))\n",
    "           .assign(t1_minuts_t0 = lambda d: d[\"earnings_t_1\"] - d[\"earnings_t_0\"]))\n",
    "\n",
    "matches.head(7)"
   ]
  },
  {
   "cell_type": "markdown",
   "metadata": {},
   "source": [
    "- Result"
   ]
  },
  {
   "cell_type": "code",
   "execution_count": 28,
   "metadata": {},
   "outputs": [
    {
     "name": "stdout",
     "output_type": "stream",
     "text": [
      "매칭을 활용하지 않은 단순 평균 차이: -4297.49373433584\n",
      "매칭을 활용한 평균 차이: 2457.8947368421054\n"
     ]
    }
   ],
   "source": [
    "print('매칭을 활용하지 않은 단순 평균 차이:', trainee.query(\"trainees==1\")[\"earnings\"].mean() - trainee.query(\"trainees==0\")[\"earnings\"].mean())\n",
    "print(\"매칭을 활용한 평균 차이:\",matches[\"t1_minuts_t0\"].mean())"
   ]
  },
  {
   "cell_type": "markdown",
   "metadata": {},
   "source": [
    "#### Approximate Matching\n",
    "- 현실적으로 정확히 같은 다른 단위 값을 찾는 것은 어려운 문제이기 때문에 대략적으로 일치한 값과 매칭하여 추정하는 방법을 고안해야 된다.\n",
    "  \n",
    "- 한 가지 방법은 X의 거리를 측정하여 가장 가까운 값에 대체시키는 방법이다.\n",
    "  \n",
    "    - Nearest neighbor covariate matching\n",
    "  \n",
    "    - $||X_i-X_j||=\\sqrt{ (X_i-X_j)'\\widehat{\\Sigma}_X^{-1}(X_i - X_j) }$\n",
    "  \n",
    "    - 거리의 개념을 활용한 수학적 공식은 다음과 같다.\n",
    "\\begin{align}\n",
    "\\widehat{\\delta}_{ATE} = \\dfrac{1}{N} \\sum_{i=1}^N (2D_i - 1) \\bigg [ Y_i - \\bigg ( \\dfrac{1}{M} \\sum_{m=1}^M Y_{j_m(i)} \\bigg ) \\bigg ]\n",
    "\\end{align}\n",
    "- $Y_{j_m(i)}$ = $X$에 대해 $i$단위와 가장 가까운 $j$단위의 $Y$ 결과 값($m$ 개)에 대한 평균 값\n",
    "- $2D_i - 1$ = Treatment unit과 Control unit의 잠재적 결과가 unit에 따라 다르므로 Trick 적용"
   ]
  },
  {
   "cell_type": "markdown",
   "metadata": {},
   "source": [
    "##### Nearest neighbor covariate matching Example\n",
    "- 약물의 효과에 따라 환자 회복일 수에 차이가 있는지 살펴보자."
   ]
  },
  {
   "cell_type": "code",
   "execution_count": 30,
   "metadata": {},
   "outputs": [
    {
     "data": {
      "text/html": [
       "<div>\n",
       "<style scoped>\n",
       "    .dataframe tbody tr th:only-of-type {\n",
       "        vertical-align: middle;\n",
       "    }\n",
       "\n",
       "    .dataframe tbody tr th {\n",
       "        vertical-align: top;\n",
       "    }\n",
       "\n",
       "    .dataframe thead th {\n",
       "        text-align: right;\n",
       "    }\n",
       "</style>\n",
       "<table border=\"1\" class=\"dataframe\">\n",
       "  <thead>\n",
       "    <tr style=\"text-align: right;\">\n",
       "      <th></th>\n",
       "      <th>sex</th>\n",
       "      <th>age</th>\n",
       "      <th>severity</th>\n",
       "      <th>medication</th>\n",
       "      <th>recovery</th>\n",
       "    </tr>\n",
       "  </thead>\n",
       "  <tbody>\n",
       "    <tr>\n",
       "      <th>0</th>\n",
       "      <td>0</td>\n",
       "      <td>35.049134</td>\n",
       "      <td>0.887658</td>\n",
       "      <td>1</td>\n",
       "      <td>31</td>\n",
       "    </tr>\n",
       "    <tr>\n",
       "      <th>1</th>\n",
       "      <td>1</td>\n",
       "      <td>41.580323</td>\n",
       "      <td>0.899784</td>\n",
       "      <td>1</td>\n",
       "      <td>49</td>\n",
       "    </tr>\n",
       "    <tr>\n",
       "      <th>2</th>\n",
       "      <td>1</td>\n",
       "      <td>28.127491</td>\n",
       "      <td>0.486349</td>\n",
       "      <td>0</td>\n",
       "      <td>38</td>\n",
       "    </tr>\n",
       "    <tr>\n",
       "      <th>3</th>\n",
       "      <td>1</td>\n",
       "      <td>36.375033</td>\n",
       "      <td>0.323091</td>\n",
       "      <td>0</td>\n",
       "      <td>35</td>\n",
       "    </tr>\n",
       "    <tr>\n",
       "      <th>4</th>\n",
       "      <td>0</td>\n",
       "      <td>25.091717</td>\n",
       "      <td>0.209006</td>\n",
       "      <td>0</td>\n",
       "      <td>15</td>\n",
       "    </tr>\n",
       "  </tbody>\n",
       "</table>\n",
       "</div>"
      ],
      "text/plain": [
       "   sex        age  severity  medication  recovery\n",
       "0    0  35.049134  0.887658           1        31\n",
       "1    1  41.580323  0.899784           1        49\n",
       "2    1  28.127491  0.486349           0        38\n",
       "3    1  36.375033  0.323091           0        35\n",
       "4    0  25.091717  0.209006           0        15"
      ]
     },
     "execution_count": 30,
     "metadata": {},
     "output_type": "execute_result"
    }
   ],
   "source": [
    "med = pd.read_csv(\"C:\\\\Users\\\\이찬영\\\\Desktop\\\\medicine_impact_recovery.csv\")\n",
    "med.head()"
   ]
  },
  {
   "cell_type": "markdown",
   "metadata": {},
   "source": [
    "- 각 변수들의 스케일을 먼저 조정한 후, 관측치 사이의 거리를 계산해야된다.\n",
    "  \n",
    "    - 스케일 조정하는 이유: 한 변수의 값이 극도로 클 경우, 계산하는데 영향을 미치기 때문"
   ]
  },
  {
   "cell_type": "code",
   "execution_count": 39,
   "metadata": {},
   "outputs": [
    {
     "data": {
      "text/html": [
       "<div>\n",
       "<style scoped>\n",
       "    .dataframe tbody tr th:only-of-type {\n",
       "        vertical-align: middle;\n",
       "    }\n",
       "\n",
       "    .dataframe tbody tr th {\n",
       "        vertical-align: top;\n",
       "    }\n",
       "\n",
       "    .dataframe thead th {\n",
       "        text-align: right;\n",
       "    }\n",
       "</style>\n",
       "<table border=\"1\" class=\"dataframe\">\n",
       "  <thead>\n",
       "    <tr style=\"text-align: right;\">\n",
       "      <th></th>\n",
       "      <th>sex</th>\n",
       "      <th>age</th>\n",
       "      <th>severity</th>\n",
       "      <th>medication</th>\n",
       "      <th>recovery</th>\n",
       "    </tr>\n",
       "  </thead>\n",
       "  <tbody>\n",
       "    <tr>\n",
       "      <th>0</th>\n",
       "      <td>-0.996980</td>\n",
       "      <td>0.280787</td>\n",
       "      <td>1.459800</td>\n",
       "      <td>1</td>\n",
       "      <td>31</td>\n",
       "    </tr>\n",
       "    <tr>\n",
       "      <th>1</th>\n",
       "      <td>1.002979</td>\n",
       "      <td>0.865375</td>\n",
       "      <td>1.502164</td>\n",
       "      <td>1</td>\n",
       "      <td>49</td>\n",
       "    </tr>\n",
       "    <tr>\n",
       "      <th>2</th>\n",
       "      <td>1.002979</td>\n",
       "      <td>-0.338749</td>\n",
       "      <td>0.057796</td>\n",
       "      <td>0</td>\n",
       "      <td>38</td>\n",
       "    </tr>\n",
       "    <tr>\n",
       "      <th>3</th>\n",
       "      <td>1.002979</td>\n",
       "      <td>0.399465</td>\n",
       "      <td>-0.512557</td>\n",
       "      <td>0</td>\n",
       "      <td>35</td>\n",
       "    </tr>\n",
       "    <tr>\n",
       "      <th>4</th>\n",
       "      <td>-0.996980</td>\n",
       "      <td>-0.610473</td>\n",
       "      <td>-0.911125</td>\n",
       "      <td>0</td>\n",
       "      <td>15</td>\n",
       "    </tr>\n",
       "  </tbody>\n",
       "</table>\n",
       "</div>"
      ],
      "text/plain": [
       "        sex       age  severity  medication  recovery\n",
       "0 -0.996980  0.280787  1.459800           1        31\n",
       "1  1.002979  0.865375  1.502164           1        49\n",
       "2  1.002979 -0.338749  0.057796           0        38\n",
       "3  1.002979  0.399465 -0.512557           0        35\n",
       "4 -0.996980 -0.610473 -0.911125           0        15"
      ]
     },
     "execution_count": 39,
     "metadata": {},
     "output_type": "execute_result"
    }
   ],
   "source": [
    "# scale features\n",
    "X = [\"severity\", \"age\", \"sex\"]\n",
    "y = \"recovery\"\n",
    "\n",
    "med = med.assign(**{f: (med[f] - med[f].mean())/med[f].std() for f in X})\n",
    "med.head()"
   ]
  },
  {
   "cell_type": "markdown",
   "metadata": {},
   "source": [
    "- KNN 모델을 활용한 매칭 (k-nearest-neighbor)"
   ]
  },
  {
   "cell_type": "code",
   "execution_count": 40,
   "metadata": {},
   "outputs": [
    {
     "data": {
      "text/html": [
       "<div>\n",
       "<style scoped>\n",
       "    .dataframe tbody tr th:only-of-type {\n",
       "        vertical-align: middle;\n",
       "    }\n",
       "\n",
       "    .dataframe tbody tr th {\n",
       "        vertical-align: top;\n",
       "    }\n",
       "\n",
       "    .dataframe thead th {\n",
       "        text-align: right;\n",
       "    }\n",
       "</style>\n",
       "<table border=\"1\" class=\"dataframe\">\n",
       "  <thead>\n",
       "    <tr style=\"text-align: right;\">\n",
       "      <th></th>\n",
       "      <th>sex</th>\n",
       "      <th>age</th>\n",
       "      <th>severity</th>\n",
       "      <th>medication</th>\n",
       "      <th>recovery</th>\n",
       "      <th>match</th>\n",
       "    </tr>\n",
       "  </thead>\n",
       "  <tbody>\n",
       "    <tr>\n",
       "      <th>0</th>\n",
       "      <td>-0.996980</td>\n",
       "      <td>0.280787</td>\n",
       "      <td>1.459800</td>\n",
       "      <td>1</td>\n",
       "      <td>31</td>\n",
       "      <td>39.0</td>\n",
       "    </tr>\n",
       "    <tr>\n",
       "      <th>1</th>\n",
       "      <td>1.002979</td>\n",
       "      <td>0.865375</td>\n",
       "      <td>1.502164</td>\n",
       "      <td>1</td>\n",
       "      <td>49</td>\n",
       "      <td>52.0</td>\n",
       "    </tr>\n",
       "    <tr>\n",
       "      <th>7</th>\n",
       "      <td>-0.996980</td>\n",
       "      <td>1.495134</td>\n",
       "      <td>1.268540</td>\n",
       "      <td>1</td>\n",
       "      <td>38</td>\n",
       "      <td>46.0</td>\n",
       "    </tr>\n",
       "    <tr>\n",
       "      <th>10</th>\n",
       "      <td>1.002979</td>\n",
       "      <td>-0.106534</td>\n",
       "      <td>0.545911</td>\n",
       "      <td>1</td>\n",
       "      <td>34</td>\n",
       "      <td>45.0</td>\n",
       "    </tr>\n",
       "    <tr>\n",
       "      <th>16</th>\n",
       "      <td>-0.996980</td>\n",
       "      <td>0.043034</td>\n",
       "      <td>1.428732</td>\n",
       "      <td>1</td>\n",
       "      <td>30</td>\n",
       "      <td>39.0</td>\n",
       "    </tr>\n",
       "  </tbody>\n",
       "</table>\n",
       "</div>"
      ],
      "text/plain": [
       "         sex       age  severity  medication  recovery  match\n",
       "0  -0.996980  0.280787  1.459800           1        31   39.0\n",
       "1   1.002979  0.865375  1.502164           1        49   52.0\n",
       "7  -0.996980  1.495134  1.268540           1        38   46.0\n",
       "10  1.002979 -0.106534  0.545911           1        34   45.0\n",
       "16 -0.996980  0.043034  1.428732           1        30   39.0"
      ]
     },
     "execution_count": 40,
     "metadata": {},
     "output_type": "execute_result"
    }
   ],
   "source": [
    "from sklearn.neighbors import KNeighborsRegressor\n",
    "\n",
    "treated = med.query(\"medication==1\")\n",
    "untreated = med.query(\"medication==0\")\n",
    "\n",
    "mt0 = KNeighborsRegressor(n_neighbors=1).fit(untreated[X], untreated[y])\n",
    "mt1 = KNeighborsRegressor(n_neighbors=1).fit(treated[X], treated[y])\n",
    "\n",
    "predicted = pd.concat([\n",
    "    # find matches for the treated looking at the untreated knn model\n",
    "    treated.assign(match=mt0.predict(treated[X])),\n",
    "    \n",
    "    # find matches for the untreated looking at the treated knn model\n",
    "    untreated.assign(match=mt1.predict(untreated[X]))\n",
    "])\n",
    "\n",
    "predicted.head()"
   ]
  },
  {
   "cell_type": "markdown",
   "metadata": {},
   "source": [
    "- Result"
   ]
  },
  {
   "cell_type": "code",
   "execution_count": 43,
   "metadata": {},
   "outputs": [
    {
     "name": "stdout",
     "output_type": "stream",
     "text": [
      "단순 평균 차이: 16.895799546498726\n",
      "KNN을 활용한 평균 차이: -0.9954\n"
     ]
    }
   ],
   "source": [
    "print(\"단순 평균 차이:\",med.query(\"medication==1\")[\"recovery\"].mean() - med.query(\"medication==0\")[\"recovery\"].mean())\n",
    "print(\"KNN을 활용한 평균 차이:\",np.mean((2*predicted[\"medication\"] - 1)*(predicted[\"recovery\"] - predicted[\"match\"])))"
   ]
  },
  {
   "cell_type": "markdown",
   "metadata": {},
   "source": [
    "### Bias Correction\n",
    "- 하지만, Matching을 통한 인과추론에서 편향 문제가 발생한다.\n",
    "\n",
    "- 따라서 편향을 보정한 수학적 공식은 다음과 같다.\n",
    "\\begin{align}\n",
    "   \\widehat{\\delta}_{ATT}^{BC} = \\dfrac{1}{N_T} \\sum_{D_i=1} \\bigg [ (Y_i - Y_{j(i)}) - \\Big(\\widehat{\\mu}^0(X_i) - \\widehat{\\mu}^0(X_{j(i)})\\Big) \\bigg ]\n",
    "\\end{align}\n",
    "\n",
    "- $Proof)$ \n",
    "\\begin{align}\n",
    "   Y_i = \\mu^{D_i}(X_i) + \\varepsilon_i\n",
    "\\end{align}\n",
    "\n",
    "\\begin{align}\n",
    "   \\mu^0(x) & = E\\big[Y\\mid X=x, D=0\\big] = E\\big[Y^0\\mid X=x\\big] \\\\\n",
    "   \\mu^1(x) & = E\\big[Y\\mid X=x, D=1\\big] = E\\big[Y^1\\mid X=x\\big]\n",
    "\\end{align}\n",
    "\n",
    "- 위 식은 $X$를 활용한 각 $Y^1$, $Y^0$의 값을 회귀분석의 식으로 표현하였다.\n",
    "  \n",
    "  - Control Group: $Y^1$ (Counterfactual)\n",
    "  \n",
    "  - Treatment Group: $Y^0$ (Counterfactual)\n",
    "- 따라서 $\\widehat{\\delta}_{ATT} = \\dfrac{1}{N_T} \\sum_{D_i=1}(Y_i - Y_{j(i)})$은 $\\dfrac{1}{N_T} \\sum_{D_i=1} \\big(\\mu^1(X_i) + \\varepsilon_i\\big) - \\big(\\mu^0(X_{j(i)}\\big) + \\varepsilon_{j(i)})$ 와 같다.\n",
    "\\begin{align}\n",
    "   \\widehat{\\delta}_{ATT}\n",
    "     & =\\dfrac{1}{N_T} \\sum_{D_i=1} \\big(\\mu^1(X_i) + \\varepsilon_i\\big) - \\big(\\mu^0(X_{j(i)}\\big) + \\varepsilon_{j(i)})\\big)                             \n",
    "   \\\\\n",
    "     & =\\dfrac{1}{N_T} \\sum_{D_i=1} \\big(\\mu^1(X_i) - \\mu^0(X_{j(i)})\\big) + \\dfrac{1}{N_T} \\sum_{D_i=1} \\big(\\varepsilon_i - \\varepsilon_{j(i)}\\big)\n",
    "\\end{align}\n",
    "\n",
    "\\begin{align}\n",
    "\\widehat{\\delta}_{ATT} - \\delta_{ATT} = \\dfrac{1}{N_T} \\sum_{D_i=1} \\left(\\mu^1(X_i) - \\mu^0(X_{j(i)})\\right) - \\delta_{ATT}\n",
    "   + \\dfrac{1}{N_T} \\sum_{D_i=1}\\big(\\varepsilon_i - \\varepsilon_{j(i)}\\big)\n",
    "\\end{align}\n",
    "\n",
    "\\begin{align}\n",
    "   \\widehat{\\delta}_{ATT} - \\delta_{ATT}\n",
    "     & = \\dfrac{1}{N_T} \\sum_{D_i=1} \\left( \\mu^1(X_i) - {\\mu^0(X_i)}\\right) - \\delta_{ATT}\n",
    "   \\\\\n",
    "     & + \\dfrac{1}{N_T} \\sum_{D_i=1} (\\varepsilon_i - \\varepsilon_{j(i)})                   \n",
    "   \\\\\n",
    "     & + \\dfrac{1}{N_T} \\sum_{D_i=1} \\left( {\\mu^0(X_i)} - \\mu^0(X_{j(i)}) \\right).         \n",
    "\\end{align}\n",
    "  - 중심극한정리에 의해 다음 식이 성립된다.\n",
    "  \\begin{align}\n",
    "  E\\Big[ \\sqrt{N_T} (\\widehat{\\delta}_{ATT} - \\delta_{ATT})\\Big] = E\\Big[ \\sqrt{N_T}(\\mu^0(X_i)-\\mu^0(X_{j(i)}) )\\mid D=1\\Big]\n",
    "  \\end{align}\n",
    "- $\\mu^0(X_i)$ 는 처치된 unit $i$가 처치되지 않았더라면 계산될 $Y$ 값이며, $\\mu^0(X_{j(i)})$는 실제로 볼 수 있는 사실적 결과이다.\n",
    "\n",
    "  - 공변량의 크기가 커질수록 $X_i$와 $X_{j(i)}$의 차이는 점점 느리게 수렴하는 반면, $\\sqrt{N_T}$는 그 차이에 비해 더 빠르게 증가하기 때문에 최종적으로 0에 수렴하지 못하여 편향이 발생하게 된다."
   ]
  },
  {
   "cell_type": "markdown",
   "metadata": {},
   "source": [
    "##### Bias Correction Matching Example\n",
    "- 약물의 효과를 편향 보정하여 다시 추정해보자."
   ]
  },
  {
   "cell_type": "code",
   "execution_count": 44,
   "metadata": {},
   "outputs": [
    {
     "data": {
      "text/html": [
       "<div>\n",
       "<style scoped>\n",
       "    .dataframe tbody tr th:only-of-type {\n",
       "        vertical-align: middle;\n",
       "    }\n",
       "\n",
       "    .dataframe tbody tr th {\n",
       "        vertical-align: top;\n",
       "    }\n",
       "\n",
       "    .dataframe thead th {\n",
       "        text-align: right;\n",
       "    }\n",
       "</style>\n",
       "<table border=\"1\" class=\"dataframe\">\n",
       "  <thead>\n",
       "    <tr style=\"text-align: right;\">\n",
       "      <th></th>\n",
       "      <th>sex</th>\n",
       "      <th>age</th>\n",
       "      <th>severity</th>\n",
       "      <th>medication</th>\n",
       "      <th>recovery</th>\n",
       "      <th>match</th>\n",
       "      <th>bias_correct</th>\n",
       "    </tr>\n",
       "  </thead>\n",
       "  <tbody>\n",
       "    <tr>\n",
       "      <th>0</th>\n",
       "      <td>-0.996980</td>\n",
       "      <td>0.280787</td>\n",
       "      <td>1.459800</td>\n",
       "      <td>1</td>\n",
       "      <td>31</td>\n",
       "      <td>39.0</td>\n",
       "      <td>4.404034</td>\n",
       "    </tr>\n",
       "    <tr>\n",
       "      <th>1</th>\n",
       "      <td>1.002979</td>\n",
       "      <td>0.865375</td>\n",
       "      <td>1.502164</td>\n",
       "      <td>1</td>\n",
       "      <td>49</td>\n",
       "      <td>52.0</td>\n",
       "      <td>12.915348</td>\n",
       "    </tr>\n",
       "    <tr>\n",
       "      <th>7</th>\n",
       "      <td>-0.996980</td>\n",
       "      <td>1.495134</td>\n",
       "      <td>1.268540</td>\n",
       "      <td>1</td>\n",
       "      <td>38</td>\n",
       "      <td>46.0</td>\n",
       "      <td>1.871428</td>\n",
       "    </tr>\n",
       "    <tr>\n",
       "      <th>10</th>\n",
       "      <td>1.002979</td>\n",
       "      <td>-0.106534</td>\n",
       "      <td>0.545911</td>\n",
       "      <td>1</td>\n",
       "      <td>34</td>\n",
       "      <td>45.0</td>\n",
       "      <td>-0.496970</td>\n",
       "    </tr>\n",
       "    <tr>\n",
       "      <th>16</th>\n",
       "      <td>-0.996980</td>\n",
       "      <td>0.043034</td>\n",
       "      <td>1.428732</td>\n",
       "      <td>1</td>\n",
       "      <td>30</td>\n",
       "      <td>39.0</td>\n",
       "      <td>2.610159</td>\n",
       "    </tr>\n",
       "  </tbody>\n",
       "</table>\n",
       "</div>"
      ],
      "text/plain": [
       "         sex       age  severity  medication  recovery  match  bias_correct\n",
       "0  -0.996980  0.280787  1.459800           1        31   39.0      4.404034\n",
       "1   1.002979  0.865375  1.502164           1        49   52.0     12.915348\n",
       "7  -0.996980  1.495134  1.268540           1        38   46.0      1.871428\n",
       "10  1.002979 -0.106534  0.545911           1        34   45.0     -0.496970\n",
       "16 -0.996980  0.043034  1.428732           1        30   39.0      2.610159"
      ]
     },
     "execution_count": 44,
     "metadata": {},
     "output_type": "execute_result"
    }
   ],
   "source": [
    "from sklearn.linear_model import LinearRegression\n",
    "\n",
    "# fit the linear regression model to estimate mu_0(x)\n",
    "ols0 = LinearRegression().fit(untreated[X], untreated[y])\n",
    "ols1 = LinearRegression().fit(treated[X], treated[y])\n",
    "\n",
    "# find the units that match to the treated\n",
    "treated_match_index = mt0.kneighbors(treated[X], n_neighbors=1)[1].ravel()\n",
    "\n",
    "# find the units that match to the untreatd\n",
    "untreated_match_index = mt1.kneighbors(untreated[X], n_neighbors=1)[1].ravel()\n",
    "\n",
    "predicted = pd.concat([\n",
    "    (treated\n",
    "     # find the Y match on the other group\n",
    "     .assign(match=mt0.predict(treated[X])) \n",
    "     \n",
    "     # build the bias correction term\n",
    "     .assign(bias_correct=ols0.predict(treated[X]) - ols0.predict(untreated.iloc[treated_match_index][X]))),\n",
    "    (untreated\n",
    "     .assign(match=mt1.predict(untreated[X]))\n",
    "     .assign(bias_correct=ols1.predict(untreated[X]) - ols1.predict(treated.iloc[untreated_match_index][X])))\n",
    "])\n",
    "\n",
    "predicted.head()"
   ]
  },
  {
   "cell_type": "markdown",
   "metadata": {},
   "source": [
    "- Result"
   ]
  },
  {
   "cell_type": "code",
   "execution_count": 46,
   "metadata": {},
   "outputs": [
    {
     "name": "stdout",
     "output_type": "stream",
     "text": [
      "단순 평균 차이: 16.895799546498726\n",
      "KNN을 활용한 평균 차이: -0.9954\n",
      "KNN을 활용한 후, 편향 보정한 평균 차이: -7.362660906141416\n"
     ]
    }
   ],
   "source": [
    "print(\"단순 평균 차이:\",med.query(\"medication==1\")[\"recovery\"].mean() - med.query(\"medication==0\")[\"recovery\"].mean())\n",
    "print(\"KNN을 활용한 평균 차이:\",np.mean((2*predicted[\"medication\"] - 1)*(predicted[\"recovery\"] - predicted[\"match\"])))\n",
    "print(\"KNN을 활용한 후, 편향 보정한 평균 차이:\",np.mean((2*predicted[\"medication\"] - 1)*((predicted[\"recovery\"] - predicted[\"match\"])-predicted[\"bias_correct\"])))"
   ]
  }
 ],
 "metadata": {
  "kernelspec": {
   "display_name": "Python 3",
   "language": "python",
   "name": "python3"
  },
  "language_info": {
   "codemirror_mode": {
    "name": "ipython",
    "version": 3
   },
   "file_extension": ".py",
   "mimetype": "text/x-python",
   "name": "python",
   "nbconvert_exporter": "python",
   "pygments_lexer": "ipython3",
   "version": "3.12.1"
  }
 },
 "nbformat": 4,
 "nbformat_minor": 2
}
