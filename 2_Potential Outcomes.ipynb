{
 "cells": [
  {
   "cell_type": "markdown",
   "metadata": {},
   "source": [
    "## Potential Outcomes Framework (인과추론을 위한 프레임워크)"
   ]
  },
  {
   "cell_type": "markdown",
   "metadata": {},
   "source": [
    "### Average Treatment Effects\n",
    "- 인과추론에서 평균차이 비교를 위한 세 가지 방법이 있다.\n",
    "  \n",
    "    - ATE (Average Treatment Effect)\n",
    "  \n",
    "    - ATT (Average Treatment Effect for the Treatment Group)\n",
    "  \n",
    "    - ATU (Average Treatment Effect for the Untreated Group)"
   ]
  },
  {
   "cell_type": "markdown",
   "metadata": {},
   "source": [
    "#### ATE\n",
    "- 전체 사람들의 처치 유무에 따른 차이 평균\n",
    "  \n",
    "- 수식은 다음과 같다.\n",
    "\\begin{align}\n",
    "   ATE & = E[\\delta_i] \\nonumber      \\\\\n",
    "       & = E[Y^1_i - Y^0_i] \\nonumber \\\\\n",
    "       & = E[Y^1_i] - E[Y^0_i]        \n",
    "\\end{align}\n",
    "- $Y^1_i$은 Treatment Group에 존재하지만, Control Group(Counterfactual)에 존재할 수 없다. 반대로 $Y^0_i$은 Control Group에 존재하지만, Treatment Group(Counterfactual)에 존재하지 않는다."
   ]
  },
  {
   "cell_type": "markdown",
   "metadata": {},
   "source": [
    "#### ATT\n",
    "- Treatment Group 내에서 처치 유무에 따른 차이 평균\n",
    "  \n",
    "- 수식은 다음과 같다.\n",
    "\\begin{align}\n",
    "   ATT & = E\\big[\\delta_i\\mid D_i=1\\big] \\nonumber                 \n",
    "   \\\\\n",
    "       & = E\\big[Y^1_i - Y^0_i \\mid D_i = 1\\big] \\nonumber          \n",
    "   \\\\\n",
    "       & = E\\big[Y^1_i\\mid D_i=1\\big] - E\\big[Y^0_i\\mid D_i=1\\big]\n",
    "\\end{align}\n",
    "- $E\\big[Y^1_i\\mid D_i=1\\big]$는 실제 값이지만, $E\\big[Y^0_i\\mid D_i=1\\big](Counterfactual)$는 일어날 수 없는 가상의 값이다."
   ]
  },
  {
   "cell_type": "markdown",
   "metadata": {},
   "source": [
    "#### ATU\n",
    "- Control Group 내에서 처치 유무에 따른 차이 평균\n",
    "  \n",
    "- 수식은 다음과 같다.\n",
    "\\begin{align}\n",
    "   ATU & = E\\big[\\delta_i\\mid D_i = 0\\big] \\nonumber                          \n",
    "   \\\\\n",
    "       & = E\\big[Y^1_i - Y^0_i\\mid D_i = 0\\big] \\nonumber                     \n",
    "   \\\\\n",
    "       & =E\\big[Y^1_i\\mid D_i=0\\big]-E\\big[Y^0_i\\mid D_i=0\\big]\n",
    "\\end{align}\n",
    "- $E\\big[Y^1_i\\mid D_i=0\\big](Counterfactual)$는 가상 값이지만, $E\\big[Y^0_i\\mid D_i=0\\big]$는 실제 값이다."
   ]
  },
  {
   "cell_type": "markdown",
   "metadata": {},
   "source": [
    "### Simple difference in Outcomes (SDO)\n",
    "- 우리가 실제로 볼 수 있는 값은 $E\\big[Y^1_i\\mid D_i=1\\big]$ 과 $E\\big[Y^0_i\\mid D_i=0\\big]$ 이다.\n",
    "  \n",
    "- 위 식을 활용한다면 아래의 식으로 나타낼 수 있다.\n",
    "\\begin{align}\n",
    "    SDO = E\\big[Y^1\\mid D=1\\big]-E\\big[Y^0\\mid D=0\\big] &=ATE \\nonumber                                              \n",
    "    \\\\\n",
    "                                & + E\\big[Y^0\\mid D=1\\big] - E\\big[Y^0\\mid D=0\\big] \\nonumber\n",
    "    \\\\\n",
    "                                & + (1-\\pi)(ATT-ATU)                                          \n",
    "\\end{align}"
   ]
  },
  {
   "cell_type": "markdown",
   "metadata": {},
   "source": [
    "### Independence assumption\n",
    "- 인과추론에서 독립성 가정이 중요한 이유는 SDO 식에 의해서이다.\n",
    "  \n",
    "- SDO 식을 살펴보면, ATT = ATU 와 $E\\big[Y^0\\mid D=1\\big] = E\\big[Y^0\\mid D=0\\big]$ 일 때 ATE를 구할 수 있다.\n",
    "  \n",
    "- 한편, 독립성 가정은 $(Y^1,Y^0) \\perp D$ 으로 정의되며, 문맥상 아래와 같다.\n",
    "\\begin{align}\n",
    "   E\\big[Y^1\\mid D=1\\big] - E\\big[Y^1\\mid D=0\\big]=0 \\\\\n",
    "   E\\big[Y^0\\mid D=1\\big] - E\\big[Y^0\\mid D=0\\big]=0\n",
    "\\end{align}\n",
    "- 따라서 독립성 가정을 만족한다면, 우리가 알고 있는 실제 값을 통해서 ATE를 구할 수 있다."
   ]
  },
  {
   "cell_type": "markdown",
   "metadata": {},
   "source": [
    "### SUTVA (Stable Unit Treatment Value Assumption)\n",
    "- 인과추론을 위해선 SUTVA 가정을 충족해야 된다.\n",
    "\n",
    "- 어느 한 개체의 잠재 결과는 다른 개체에 배정된 처치에 영향을 받지 않는다.\n",
    "  \n",
    "  - ex) 회사에서 제비뽑기로 재택근무를 무작위로 선정했다고 하자. 하지만, 제비뽑기에 탈락한 사람들은 상실감 때문에 업무 생산성이 낮아질 수 있다. (Control Group Outcome이 Treatment Group에 의해 간접적으로 영향을 미쳤다.)\n",
    "  \n",
    "- 처치에 여러가지 형태가 존재하지 않아야 된다.\n",
    "  \n",
    "  - ex) 환자들에게 수술의 유무를 무작위로 선정했다고 하자. Treatment Group에서 수술은 의사에 따라 결과에 대한 편차가 있을 수 있기 때문에 인과효과를 제대로 추정할 수 없다."
   ]
  }
 ],
 "metadata": {
  "kernelspec": {
   "display_name": "Python 3",
   "language": "python",
   "name": "python3"
  },
  "language_info": {
   "codemirror_mode": {
    "name": "ipython",
    "version": 3
   },
   "file_extension": ".py",
   "mimetype": "text/x-python",
   "name": "python",
   "nbconvert_exporter": "python",
   "pygments_lexer": "ipython3",
   "version": "3.12.1"
  }
 },
 "nbformat": 4,
 "nbformat_minor": 2
}
